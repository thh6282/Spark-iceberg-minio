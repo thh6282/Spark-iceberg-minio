{
 "cells": [
  {
   "cell_type": "code",
   "execution_count": 7,
   "metadata": {},
   "outputs": [
    {
     "name": "stdout",
     "output_type": "stream",
     "text": [
      "{'manifest_path': 's3a://warehouse/a/metadata/30b20ce2-e1c4-446c-80ce-b6570a1d6c12-m1.avro', 'manifest_length': 6721, 'partition_spec_id': 0, 'content': 0, 'sequence_number': 3, 'min_sequence_number': 3, 'added_snapshot_id': 8116700340912039566, 'added_files_count': 1, 'existing_files_count': 0, 'deleted_files_count': 0, 'added_rows_count': 1, 'existing_rows_count': 0, 'deleted_rows_count': 0, 'partitions': []}\n",
      "{'manifest_path': 's3a://warehouse/a/metadata/30b20ce2-e1c4-446c-80ce-b6570a1d6c12-m0.avro', 'manifest_length': 6722, 'partition_spec_id': 0, 'content': 0, 'sequence_number': 3, 'min_sequence_number': 3, 'added_snapshot_id': 8116700340912039566, 'added_files_count': 0, 'existing_files_count': 0, 'deleted_files_count': 1, 'added_rows_count': 0, 'existing_rows_count': 0, 'deleted_rows_count': 1, 'partitions': []}\n",
      "{'manifest_path': 's3a://warehouse/a/metadata/ac6e73a8-7edc-43bf-9614-cf1831140edb-m0.avro', 'manifest_length': 6715, 'partition_spec_id': 0, 'content': 0, 'sequence_number': 1, 'min_sequence_number': 1, 'added_snapshot_id': 3255105007450558558, 'added_files_count': 1, 'existing_files_count': 0, 'deleted_files_count': 0, 'added_rows_count': 1, 'existing_rows_count': 0, 'deleted_rows_count': 0, 'partitions': []}\n"
     ]
    }
   ],
   "source": [
    "import fastavro\n",
    "\n",
    "# File path to file Avro\n",
    "file_path = 'v3/snap.avro'\n",
    "\n",
    "# open file arvo\n",
    "with open(file_path, 'rb') as f:\n",
    "    avro_reader = fastavro.reader(f)\n",
    "    schema = avro_reader.writer_schema\n",
    "\n",
    "    # read file arvo\n",
    "    for record in avro_reader:\n",
    "        print(record)"
   ]
  }
 ],
 "metadata": {
  "kernelspec": {
   "display_name": "Python 3",
   "language": "python",
   "name": "python3"
  },
  "language_info": {
   "codemirror_mode": {
    "name": "ipython",
    "version": 3
   },
   "file_extension": ".py",
   "mimetype": "text/x-python",
   "name": "python",
   "nbconvert_exporter": "python",
   "pygments_lexer": "ipython3",
   "version": "3.12.3"
  }
 },
 "nbformat": 4,
 "nbformat_minor": 2
}
