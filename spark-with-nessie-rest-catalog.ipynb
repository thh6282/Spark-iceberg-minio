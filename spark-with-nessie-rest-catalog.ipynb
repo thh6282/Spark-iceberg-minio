{
 "cells": [
  {
   "cell_type": "code",
   "execution_count": null,
   "metadata": {},
   "outputs": [],
   "source": [
    "from pyspark.sql import SparkSession\n",
    " \n",
    "# Initialize Spark session with Iceberg and Nessie configurations\n",
    "spark = SparkSession.builder \\\n",
    "    .appName(\"SparkNessieIceberg\") \\\n",
    "    .config(\"spark.jars.packages\",\n",
    "            \"org.apache.iceberg:iceberg-spark-runtime-3.3_2.12:1.5.2,\"\n",
    "            \"org.apache.iceberg:iceberg-aws-bundle:1.5.0,\"\n",
    "            \"org.apache.hadoop:hadoop-aws:3.3.4\"\n",
    "            ) \\\n",
    "    .config(\"spark.sql.extensions\",  \n",
    "            \"org.apache.iceberg.spark.extensions.IcebergSparkSessionExtensions\") \\\n",
    "    .config(\"spark.sql.catalogImplementation\", \"in-memory\") \\\n",
    "    .config(\"spark.sql.catalog.nessie.scope\", \"catalog sign\") \\\n",
    "    .config(\"spark.sql.catalog.nessie.uri\", \"http://192.168.1.17:31087/iceberg/\") \\\n",
    "    .config(\"spark.sql.catalog.nessie.type\", \"rest\") \\\n",
    "    .config(\"spark.sql.catalog.nessie\", \"org.apache.iceberg.spark.SparkCatalog\") \\\n",
    "    .config(\"spark.sql.defaultCatalog\", \"nessie\") \\\n",
    "    .config(\"spark.hadoop.fs.s3.impl\", \"org.apache.hadoop.fs.s3a.S3AFileSystem\") \\\n",
    "    .config(\"spark.sql.catalog.nessie.hadoop.fs.s3a.endpoint\", \"http://192.168.1.17:31024\") \\\n",
    "    .config(\"spark.sql.catalog.nessie.hadoop.fs.s3a.access.key\", \"access_key\") \\\n",
    "    .config(\"spark.sql.catalog.nessie.hadoop.fs.s3a.secret.key\", \"secret_key\") \\\n",
    "    .getOrCreate()\n",
    " \n",
    "try:\n",
    "    # Show tables in a specific database\n",
    "    spark.sql(\"SHOW tables in nessie.thh\").show()\n",
    " \n",
    "    # Query data from a specific table\n",
    "    spark.sql(\"SELECT * FROM nessie.thh.abcd\").show()\n",
    " \n",
    "except Exception as e:\n",
    "    print(f\"An error occurred: {e}\")\n",
    " \n",
    "finally:\n",
    "    # Stop Spark session\n",
    "    spark.stop()"
   ]
  }
 ],
 "metadata": {
  "kernelspec": {
   "display_name": "Python 3",
   "language": "python",
   "name": "python3"
  },
  "language_info": {
   "name": "python",
   "version": "3.12.0"
  }
 },
 "nbformat": 4,
 "nbformat_minor": 2
}
